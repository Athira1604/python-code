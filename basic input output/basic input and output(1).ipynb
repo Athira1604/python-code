{
 "cells": [
  {
   "cell_type": "code",
   "execution_count": 6,
   "id": "e2c24a84",
   "metadata": {},
   "outputs": [
    {
     "name": "stdout",
     "output_type": "stream",
     "text": [
      "3.9.12\n"
     ]
    }
   ],
   "source": [
    "from platform import python_version\n",
    "print(python_version())"
   ]
  },
  {
   "cell_type": "code",
   "execution_count": null,
   "id": "d08b9314",
   "metadata": {},
   "outputs": [],
   "source": []
  },
  {
   "cell_type": "code",
   "execution_count": 5,
   "id": "0ab35079",
   "metadata": {},
   "outputs": [],
   "source": [
    "num=78\n"
   ]
  },
  {
   "cell_type": "code",
   "execution_count": 4,
   "id": "329fe03c",
   "metadata": {},
   "outputs": [
    {
     "ename": "NameError",
     "evalue": "name 'num' is not defined",
     "output_type": "error",
     "traceback": [
      "\u001b[1;31m---------------------------------------------------------------------------\u001b[0m",
      "\u001b[1;31mNameError\u001b[0m                                 Traceback (most recent call last)",
      "Input \u001b[1;32mIn [4]\u001b[0m, in \u001b[0;36m<cell line: 1>\u001b[1;34m()\u001b[0m\n\u001b[1;32m----> 1\u001b[0m \u001b[43mnum\u001b[49m\n",
      "\u001b[1;31mNameError\u001b[0m: name 'num' is not defined"
     ]
    }
   ],
   "source": [
    "num"
   ]
  },
  {
   "cell_type": "code",
   "execution_count": 7,
   "id": "33ebc10e",
   "metadata": {},
   "outputs": [
    {
     "name": "stdout",
     "output_type": "stream",
     "text": [
      "78\n"
     ]
    }
   ],
   "source": [
    "print(num)"
   ]
  },
  {
   "cell_type": "code",
   "execution_count": 2,
   "id": "f9528689",
   "metadata": {},
   "outputs": [
    {
     "data": {
      "text/plain": [
       "78.9"
      ]
     },
     "execution_count": 2,
     "metadata": {},
     "output_type": "execute_result"
    }
   ],
   "source": [
    "num1=78.9\n",
    "num1"
   ]
  },
  {
   "cell_type": "code",
   "execution_count": null,
   "id": "df9d16d8",
   "metadata": {},
   "outputs": [],
   "source": [
    "name=\"Athira\"\n",
    "name"
   ]
  },
  {
   "cell_type": "code",
   "execution_count": null,
   "id": "986bfe81",
   "metadata": {},
   "outputs": [],
   "source": [
    "print(name)"
   ]
  },
  {
   "cell_type": "code",
   "execution_count": null,
   "id": "d2b6f75d",
   "metadata": {},
   "outputs": [],
   "source": [
    "text=\"welcome to programming\"\n",
    "text"
   ]
  },
  {
   "cell_type": "code",
   "execution_count": null,
   "id": "f5c1d2ec",
   "metadata": {},
   "outputs": [],
   "source": [
    "text"
   ]
  },
  {
   "cell_type": "code",
   "execution_count": null,
   "id": "946060b2",
   "metadata": {},
   "outputs": [],
   "source": [
    "print(text)"
   ]
  },
  {
   "cell_type": "code",
   "execution_count": null,
   "id": "40e80f72",
   "metadata": {},
   "outputs": [],
   "source": [
    "### Keyword"
   ]
  },
  {
   "cell_type": "code",
   "execution_count": 11,
   "id": "95bfcca9",
   "metadata": {},
   "outputs": [],
   "source": [
    "import keyword"
   ]
  },
  {
   "cell_type": "code",
   "execution_count": 12,
   "id": "dbc5c29d",
   "metadata": {},
   "outputs": [
    {
     "name": "stdout",
     "output_type": "stream",
     "text": [
      "['False', 'None', 'True', '__peg_parser__', 'and', 'as', 'assert', 'async', 'await', 'break', 'class', 'continue', 'def', 'del', 'elif', 'else', 'except', 'finally', 'for', 'from', 'global', 'if', 'import', 'in', 'is', 'lambda', 'nonlocal', 'not', 'or', 'pass', 'raise', 'return', 'try', 'while', 'with', 'yield']\n"
     ]
    }
   ],
   "source": [
    "print(keyword.kwlist)\n"
   ]
  },
  {
   "cell_type": "code",
   "execution_count": 13,
   "id": "a9f476dc",
   "metadata": {},
   "outputs": [
    {
     "data": {
      "text/plain": [
       "36"
      ]
     },
     "execution_count": 13,
     "metadata": {},
     "output_type": "execute_result"
    }
   ],
   "source": [
    "len(keyword.kwlist)"
   ]
  },
  {
   "cell_type": "code",
   "execution_count": 14,
   "id": "3f5cd3a7",
   "metadata": {},
   "outputs": [
    {
     "ename": "SyntaxError",
     "evalue": "invalid syntax (3502861114.py, line 1)",
     "output_type": "error",
     "traceback": [
      "\u001b[1;36m  Input \u001b[1;32mIn [14]\u001b[1;36m\u001b[0m\n\u001b[1;33m    if=89\u001b[0m\n\u001b[1;37m      ^\u001b[0m\n\u001b[1;31mSyntaxError\u001b[0m\u001b[1;31m:\u001b[0m invalid syntax\n"
     ]
    }
   ],
   "source": [
    "if=89 canot use as a variable"
   ]
  },
  {
   "cell_type": "code",
   "execution_count": 10,
   "id": "c00e452e",
   "metadata": {},
   "outputs": [
    {
     "data": {
      "text/plain": [
       "'welcome to programming'"
      ]
     },
     "execution_count": 10,
     "metadata": {},
     "output_type": "execute_result"
    }
   ],
   "source": [
    "text=\"welcome to programming\"\n",
    "text"
   ]
  },
  {
   "cell_type": "code",
   "execution_count": null,
   "id": "45f9bcaf",
   "metadata": {},
   "outputs": [],
   "source": [
    "identifiers"
   ]
  },
  {
   "cell_type": "code",
   "execution_count": 3,
   "id": "7ef1a84f",
   "metadata": {},
   "outputs": [],
   "source": [
    "v=10"
   ]
  },
  {
   "cell_type": "code",
   "execution_count": 8,
   "id": "97f70db1",
   "metadata": {},
   "outputs": [
    {
     "data": {
      "text/plain": [
       "10"
      ]
     },
     "execution_count": 8,
     "metadata": {},
     "output_type": "execute_result"
    }
   ],
   "source": [
    "v"
   ]
  },
  {
   "cell_type": "code",
   "execution_count": 9,
   "id": "b001f833",
   "metadata": {},
   "outputs": [],
   "source": [
    "v_1=10"
   ]
  },
  {
   "cell_type": "markdown",
   "id": "e579cd3e",
   "metadata": {},
   "source": [
    "_v=12"
   ]
  },
  {
   "cell_type": "code",
   "execution_count": 10,
   "id": "ab9ebf51",
   "metadata": {},
   "outputs": [],
   "source": [
    "v_=12"
   ]
  },
  {
   "cell_type": "code",
   "execution_count": 11,
   "id": "8bd80974",
   "metadata": {},
   "outputs": [],
   "source": [
    "_v=12"
   ]
  },
  {
   "cell_type": "code",
   "execution_count": 14,
   "id": "832657f7",
   "metadata": {},
   "outputs": [],
   "source": [
    "v_=12"
   ]
  },
  {
   "cell_type": "code",
   "execution_count": 13,
   "id": "64d5272c",
   "metadata": {},
   "outputs": [],
   "source": [
    "v=12"
   ]
  },
  {
   "cell_type": "code",
   "execution_count": 15,
   "id": "8c3280be",
   "metadata": {},
   "outputs": [
    {
     "data": {
      "text/plain": [
       "12"
      ]
     },
     "execution_count": 15,
     "metadata": {},
     "output_type": "execute_result"
    }
   ],
   "source": [
    "v"
   ]
  },
  {
   "cell_type": "code",
   "execution_count": 15,
   "id": "35f4edc9",
   "metadata": {},
   "outputs": [
    {
     "ename": "SyntaxError",
     "evalue": "invalid syntax (2886667722.py, line 1)",
     "output_type": "error",
     "traceback": [
      "\u001b[1;36m  Input \u001b[1;32mIn [15]\u001b[1;36m\u001b[0m\n\u001b[1;33m    import=67\u001b[0m\n\u001b[1;37m          ^\u001b[0m\n\u001b[1;31mSyntaxError\u001b[0m\u001b[1;31m:\u001b[0m invalid syntax\n"
     ]
    }
   ],
   "source": [
    "import=67"
   ]
  },
  {
   "cell_type": "code",
   "execution_count": 17,
   "id": "42a62b6f",
   "metadata": {},
   "outputs": [
    {
     "ename": "SyntaxError",
     "evalue": "invalid syntax (1475518491.py, line 1)",
     "output_type": "error",
     "traceback": [
      "\u001b[1;36m  Input \u001b[1;32mIn [17]\u001b[1;36m\u001b[0m\n\u001b[1;33m    v$=9\u001b[0m\n\u001b[1;37m     ^\u001b[0m\n\u001b[1;31mSyntaxError\u001b[0m\u001b[1;31m:\u001b[0m invalid syntax\n"
     ]
    }
   ],
   "source": [
    "v$=9 canot do special charecter"
   ]
  },
  {
   "cell_type": "code",
   "execution_count": 18,
   "id": "2414f57e",
   "metadata": {},
   "outputs": [
    {
     "ename": "SyntaxError",
     "evalue": "invalid syntax (1462309391.py, line 1)",
     "output_type": "error",
     "traceback": [
      "\u001b[1;36m  Input \u001b[1;32mIn [18]\u001b[1;36m\u001b[0m\n\u001b[1;33m    v x=45\u001b[0m\n\u001b[1;37m      ^\u001b[0m\n\u001b[1;31mSyntaxError\u001b[0m\u001b[1;31m:\u001b[0m invalid syntax\n"
     ]
    }
   ],
   "source": [
    "v x=45"
   ]
  },
  {
   "cell_type": "raw",
   "id": "e8577be1",
   "metadata": {},
   "source": [
    "variables\n",
    "\n",
    ">In python variables are created when you assing a value to it\n",
    "> A python variables is a reserved memory location to store value.\n",
    "> aA variable is created  the moment you first assign a valie to it.\n",
    ">Python has no command to declare a variable.\n",
    ">variable names are case sensitive.\n"
   ]
  },
  {
   "cell_type": "code",
   "execution_count": 16,
   "id": "9c12309a",
   "metadata": {},
   "outputs": [],
   "source": [
    "s=\"hello welcome to python programming\""
   ]
  },
  {
   "cell_type": "code",
   "execution_count": 17,
   "id": "64a1b78f",
   "metadata": {},
   "outputs": [
    {
     "data": {
      "text/plain": [
       "'hello welcome to python programming'"
      ]
     },
     "execution_count": 17,
     "metadata": {},
     "output_type": "execute_result"
    }
   ],
   "source": [
    "s"
   ]
  },
  {
   "cell_type": "code",
   "execution_count": 18,
   "id": "7f1534fa",
   "metadata": {},
   "outputs": [
    {
     "name": "stdout",
     "output_type": "stream",
     "text": [
      "hello welcome to python programming\n"
     ]
    }
   ],
   "source": [
    "print(s)"
   ]
  },
  {
   "cell_type": "code",
   "execution_count": 19,
   "id": "268478d4",
   "metadata": {},
   "outputs": [],
   "source": [
    "a=12"
   ]
  },
  {
   "cell_type": "code",
   "execution_count": 20,
   "id": "1834c428",
   "metadata": {},
   "outputs": [
    {
     "data": {
      "text/plain": [
       "12"
      ]
     },
     "execution_count": 20,
     "metadata": {},
     "output_type": "execute_result"
    }
   ],
   "source": [
    "a"
   ]
  },
  {
   "cell_type": "code",
   "execution_count": null,
   "id": "84553225",
   "metadata": {},
   "outputs": [],
   "source": [
    "type()\n",
    "\n",
    ">This function help us to get the data type  of variable."
   ]
  },
  {
   "cell_type": "code",
   "execution_count": null,
   "id": "0ce0d2c8",
   "metadata": {},
   "outputs": [],
   "source": [
    "identy()\n",
    ">This function returns the identity of the object.\n",
    ">The identity of an object -is an integer\n",
    ">Guarenteed to be unique.>Constant for this object during its lifetime."
   ]
  },
  {
   "cell_type": "code",
   "execution_count": 21,
   "id": "d52ab81d",
   "metadata": {},
   "outputs": [
    {
     "name": "stdout",
     "output_type": "stream",
     "text": [
      "<class 'int'>\n",
      "2576810135632\n"
     ]
    }
   ],
   "source": [
    "x=56\n",
    "print(type(x))\n",
    "print(id(x))"
   ]
  },
  {
   "cell_type": "code",
   "execution_count": 22,
   "id": "9ac04c93",
   "metadata": {},
   "outputs": [
    {
     "name": "stdout",
     "output_type": "stream",
     "text": [
      "<class 'str'>\n",
      "2576921334512\n"
     ]
    }
   ],
   "source": [
    "x='56'\n",
    "print(type(x))\n",
    "print(id(x))"
   ]
  },
  {
   "cell_type": "code",
   "execution_count": 23,
   "id": "fbb95cc3",
   "metadata": {},
   "outputs": [
    {
     "name": "stdout",
     "output_type": "stream",
     "text": [
      "<class 'float'>\n",
      "2576921543920\n"
     ]
    }
   ],
   "source": [
    "x=56.78\n",
    "print(type(x))\n",
    "print(id(x))"
   ]
  },
  {
   "cell_type": "code",
   "execution_count": null,
   "id": "6f8d8cc6",
   "metadata": {},
   "outputs": [],
   "source": [
    "Memory addres of variable"
   ]
  },
  {
   "cell_type": "code",
   "execution_count": 25,
   "id": "10dffaf0",
   "metadata": {},
   "outputs": [
    {
     "data": {
      "text/plain": [
       "'0x257f5da5310'"
      ]
     },
     "execution_count": 25,
     "metadata": {},
     "output_type": "execute_result"
    }
   ],
   "source": [
    "x=78\n",
    "hex(id(x))"
   ]
  },
  {
   "cell_type": "code",
   "execution_count": null,
   "id": "fb237596",
   "metadata": {},
   "outputs": [],
   "source": [
    "Write an programme of addition"
   ]
  },
  {
   "cell_type": "code",
   "execution_count": 26,
   "id": "ee035a74",
   "metadata": {},
   "outputs": [
    {
     "name": "stdout",
     "output_type": "stream",
     "text": [
      "enter n1:8\n",
      "enter n2:6\n",
      "add + 14\n"
     ]
    }
   ],
   "source": [
    "n1= int(input('enter n1:'))\n",
    "n2= int(input('enter n2:'))\n",
    "add =n1+n2\n",
    "print('add +',add)"
   ]
  },
  {
   "cell_type": "code",
   "execution_count": null,
   "id": "d18ebe92",
   "metadata": {},
   "outputs": [],
   "source": [
    "Write a program of substraction"
   ]
  },
  {
   "cell_type": "code",
   "execution_count": 29,
   "id": "51af6fcc",
   "metadata": {},
   "outputs": [
    {
     "name": "stdout",
     "output_type": "stream",
     "text": [
      "enter n1:9\n",
      "enter n2:6\n",
      "sub - 3\n"
     ]
    }
   ],
   "source": [
    "n1= int(input('enter n1:'))\n",
    "n2= int(input('enter n2:'))\n",
    "sub =n1-n2\n",
    "print('sub -',sub)"
   ]
  },
  {
   "cell_type": "code",
   "execution_count": null,
   "id": "414a3c2c",
   "metadata": {},
   "outputs": [],
   "source": [
    "Write a program of multiplication"
   ]
  },
  {
   "cell_type": "code",
   "execution_count": 30,
   "id": "9b28b86d",
   "metadata": {},
   "outputs": [
    {
     "name": "stdout",
     "output_type": "stream",
     "text": [
      "enter n1:5\n",
      "enter n2:7\n",
      "mul* 35\n"
     ]
    }
   ],
   "source": [
    "n1 = int(input('enter n1:'))\n",
    "n2 = int(input('enter n2:'))\n",
    "mul=n1*n2\n",
    "print('mul*',mul)"
   ]
  },
  {
   "cell_type": "code",
   "execution_count": null,
   "id": "b927c519",
   "metadata": {},
   "outputs": [],
   "source": [
    "Write a program of division"
   ]
  },
  {
   "cell_type": "code",
   "execution_count": 3,
   "id": "f6390453",
   "metadata": {},
   "outputs": [
    {
     "name": "stdout",
     "output_type": "stream",
     "text": [
      "enter n1:9\n",
      "enter n2:3\n",
      "div= 3.0\n"
     ]
    }
   ],
   "source": [
    "n1 = int(input('enter n1:'))\n",
    "n2 = int(input('enter n2:'))\n",
    "div=n1/n2\n",
    "print('div=',div)"
   ]
  },
  {
   "cell_type": "code",
   "execution_count": null,
   "id": "1d1e86c6",
   "metadata": {},
   "outputs": [],
   "source": [
    "modulus"
   ]
  },
  {
   "cell_type": "code",
   "execution_count": 4,
   "id": "5e62ca70",
   "metadata": {},
   "outputs": [
    {
     "name": "stdout",
     "output_type": "stream",
     "text": [
      "enter n1:8\n",
      "enter n2:5\n",
      "rem- 3\n"
     ]
    }
   ],
   "source": [
    "n1 = int(input('enter n1:'))\n",
    "n2 = int(input('enter n2:'))\n",
    "rem=n1%n2\n",
    "print('rem-',rem)"
   ]
  },
  {
   "cell_type": "code",
   "execution_count": null,
   "id": "39474d7f",
   "metadata": {},
   "outputs": [],
   "source": [
    "exponent"
   ]
  },
  {
   "cell_type": "code",
   "execution_count": 5,
   "id": "2e3b57ba",
   "metadata": {},
   "outputs": [
    {
     "name": "stdout",
     "output_type": "stream",
     "text": [
      "enter n1:2\n",
      "enter n2:3\n",
      "exo- 8\n"
     ]
    }
   ],
   "source": [
    "n1 = int(input('enter n1:'))\n",
    "n2 = int(input('enter n2:'))\n",
    "exp=n1**n2\n",
    "print('exo-',exp)"
   ]
  },
  {
   "cell_type": "code",
   "execution_count": null,
   "id": "c3a1a979",
   "metadata": {},
   "outputs": [],
   "source": [
    "operators"
   ]
  },
  {
   "cell_type": "code",
   "execution_count": 6,
   "id": "c72d22f0",
   "metadata": {},
   "outputs": [
    {
     "name": "stdout",
     "output_type": "stream",
     "text": [
      "False\n"
     ]
    }
   ],
   "source": [
    "a=10\n",
    "b=12\n",
    "print(a>10 or a>b)"
   ]
  },
  {
   "cell_type": "code",
   "execution_count": null,
   "id": "6aa08482",
   "metadata": {},
   "outputs": [],
   "source": []
  },
  {
   "cell_type": "raw",
   "id": "6ed70a1d",
   "metadata": {},
   "source": []
  },
  {
   "cell_type": "code",
   "execution_count": 8,
   "id": "3f162380",
   "metadata": {},
   "outputs": [
    {
     "name": "stdout",
     "output_type": "stream",
     "text": [
      "enter the first number12\n",
      "enter the second number12\n",
      "both are equal\n"
     ]
    }
   ],
   "source": [
    "#use of operator in conditional statements\n",
    "a=int(input(\"enter the first number\"))\n",
    "b=int(input(\"enter the second number\"))\n",
    "if a==b:\n",
    "    print(\"both are equal\")"
   ]
  },
  {
   "cell_type": "code",
   "execution_count": null,
   "id": "9f044a5c",
   "metadata": {},
   "outputs": [],
   "source": [
    "comparision operator"
   ]
  },
  {
   "cell_type": "code",
   "execution_count": 9,
   "id": "959c2fec",
   "metadata": {},
   "outputs": [
    {
     "name": "stdout",
     "output_type": "stream",
     "text": [
      "is x is greater than y False\n",
      "is y is greater than  True\n",
      "is y is equal to y  False\n",
      "is x is greater than or equal to y False\n",
      "is y is greater than or equal to x True\n"
     ]
    }
   ],
   "source": [
    "x=10\n",
    "y=20\n",
    "print(\"is x is greater than y\",x>y)\n",
    "print(\"is y is greater than \",x<y)\n",
    "print(\"is y is equal to y \",x==y)\n",
    "print(\"is x is greater than or equal to y\",x>=y)\n",
    "print(\"is y is greater than or equal to x\",x<=y)"
   ]
  },
  {
   "cell_type": "code",
   "execution_count": 10,
   "id": "44329897",
   "metadata": {},
   "outputs": [
    {
     "name": "stdout",
     "output_type": "stream",
     "text": [
      "False\n",
      "True\n",
      "True\n"
     ]
    }
   ],
   "source": [
    "a='shiv'\n",
    "b='verma'\n",
    "c=\"shiv\"\n",
    "print(a==b)\n",
    "print(a==c)\n",
    "print(a!=b)\n"
   ]
  },
  {
   "cell_type": "code",
   "execution_count": null,
   "id": "daa46cf7",
   "metadata": {},
   "outputs": [],
   "source": []
  }
 ],
 "metadata": {
  "kernelspec": {
   "display_name": "Python 3 (ipykernel)",
   "language": "python",
   "name": "python3"
  },
  "language_info": {
   "codemirror_mode": {
    "name": "ipython",
    "version": 3
   },
   "file_extension": ".py",
   "mimetype": "text/x-python",
   "name": "python",
   "nbconvert_exporter": "python",
   "pygments_lexer": "ipython3",
   "version": "3.9.12"
  }
 },
 "nbformat": 4,
 "nbformat_minor": 5
}
