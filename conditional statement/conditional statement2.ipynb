{
 "cells": [
  {
   "cell_type": "markdown",
   "id": "4d59b57d",
   "metadata": {},
   "source": [
    "### program to enter two number and print the greatest number"
   ]
  },
  {
   "cell_type": "markdown",
   "id": "c4a97516",
   "metadata": {},
   "source": [
    "n=int(input('Enter first num='))\n",
    "m=int(input('Enter second num='))\n",
    "if n<m:\n",
    "    print('First num is smaller:',n)\n",
    "elif n>m:\n",
    "    print('second num is smaller:',m)\n",
    "else:\n",
    "    print('Both num are equal')"
   ]
  },
  {
   "cell_type": "markdown",
   "id": "ae9e06fa",
   "metadata": {},
   "source": [
    "# program to enter two number and print the smallest number"
   ]
  },
  {
   "cell_type": "code",
   "execution_count": 1,
   "id": "7594699b",
   "metadata": {},
   "outputs": [
    {
     "name": "stdout",
     "output_type": "stream",
     "text": [
      "Enter first num=5\n",
      "Enter second num=6\n",
      "First num is smaller: 5\n"
     ]
    }
   ],
   "source": [
    "n=int(input('Enter first num='))\n",
    "m=int(input('Enter second num='))\n",
    "if n<m:\n",
    "    print('First num is smaller:',n)\n",
    "elif n>m:\n",
    "    print('second num is smaller:',m)\n",
    "else:\n",
    "    print('Both num are equal')"
   ]
  },
  {
   "cell_type": "markdown",
   "id": "c58fb7f1",
   "metadata": {},
   "source": [
    " ###   program to enter two number and print the greatest number\n"
   ]
  },
  {
   "cell_type": "code",
   "execution_count": 2,
   "id": "8a6a955c",
   "metadata": {},
   "outputs": [
    {
     "name": "stdout",
     "output_type": "stream",
     "text": [
      "Enter first num=6\n",
      "Enter second num=8\n",
      "smallest number is: 6\n"
     ]
    }
   ],
   "source": [
    "n=int(input('Enter first num='))\n",
    "m=int(input('Enter second num='))\n",
    "print('smallest number is:',min(m,n))"
   ]
  },
  {
   "cell_type": "markdown",
   "id": "7a09b9f6",
   "metadata": {},
   "source": [
    "## program to enter 3 number and print the greatest number"
   ]
  },
  {
   "cell_type": "code",
   "execution_count": 5,
   "id": "9c00d072",
   "metadata": {},
   "outputs": [
    {
     "name": "stdout",
     "output_type": "stream",
     "text": [
      "Enter first num=6\n",
      "Enter second num=8\n",
      "Enter third num=9\n",
      "Enter third num is greatest : 9\n"
     ]
    }
   ],
   "source": [
    "l=int(input('Enter first num='))\n",
    "m=int(input('Enter second num='))\n",
    "o=int(input('Enter third num='))\n",
    "if l>m and l>o:\n",
    "    print('first num is greatest :',l)\n",
    "elif m>l and m>o:\n",
    "    print('second num is greatest:',m)\n",
    "elif o>l and o>m:\n",
    "    print('Enter third num is greatest :',o)\n",
    "else:\n",
    "    print('all numbers are equal')\n",
    "            "
   ]
  },
  {
   "cell_type": "markdown",
   "id": "b24f5e67",
   "metadata": {},
   "source": [
    "### program to enter 3 number and print the greatest number"
   ]
  },
  {
   "cell_type": "code",
   "execution_count": 1,
   "id": "3c6237d7",
   "metadata": {},
   "outputs": [
    {
     "name": "stdout",
     "output_type": "stream",
     "text": [
      "Enter first num=6\n",
      "Enter second num=7\n",
      "Enter third num=3\n",
      "The smallest number is: 3\n"
     ]
    }
   ],
   "source": [
    "l=int(input('Enter first num='))\n",
    "m=int(input('Enter second num='))\n",
    "o=int(input('Enter third num='))\n",
    "print(\"The smallest number is:\",min(l,m,o))"
   ]
  },
  {
   "cell_type": "markdown",
   "id": "0297affe",
   "metadata": {},
   "source": [
    "## Program to print roots of quadratic equation "
   ]
  },
  {
   "cell_type": "code",
   "execution_count": 2,
   "id": "8491ee02",
   "metadata": {},
   "outputs": [
    {
     "name": "stdout",
     "output_type": "stream",
     "text": [
      "Enter the value of a=2\n",
      "Enter the value of b=4\n",
      "Enter the value of c=6\n",
      "Roots of quadratic equation is\n",
      " (-0.9999999999999999+1.4142135623730951j) \n",
      " (-1-1.4142135623730951j)\n"
     ]
    }
   ],
   "source": [
    "a=int(input(\"Enter the value of a=\"))\n",
    "b=int(input(\"Enter the value of b=\"))\n",
    "c=int(input(\"Enter the value of c=\"))\n",
    "r1=(-b+((b**2)-4*a*c)**0.5)/(2*a)\n",
    "r2=(-b-((b**2)-4*a*c)**0.5)/(2*a)\n",
    "print(\"Roots of quadratic equation is\\n\",r1,'\\n',r2)"
   ]
  },
  {
   "cell_type": "markdown",
   "id": "aa4bc7c4",
   "metadata": {},
   "source": [
    "## Program to enter number from 1-7 and print respective day"
   ]
  },
  {
   "cell_type": "code",
   "execution_count": 3,
   "id": "010d2f02",
   "metadata": {},
   "outputs": [
    {
     "name": "stdout",
     "output_type": "stream",
     "text": [
      "Enter number from 1-7=5\n",
      "friday\n"
     ]
    }
   ],
   "source": [
    "n=int(input('Enter number from 1-7='))\n",
    "if n==1:\n",
    "    print('monday')\n",
    "elif n==2:\n",
    "    print('Tuesday')\n",
    "elif n==3:\n",
    "    print('wednesday')\n",
    "elif n==4:\n",
    "    print('Thursday')\n",
    "elif n==5:\n",
    "    print('friday')\n",
    "elif n==6:\n",
    "    print('saturday')\n",
    "elif n==7:\n",
    "    print('sunday')\n",
    "else:\n",
    "    print('wrong report')\n"
   ]
  },
  {
   "cell_type": "code",
   "execution_count": null,
   "id": "e002cbeb",
   "metadata": {},
   "outputs": [],
   "source": []
  }
 ],
 "metadata": {
  "kernelspec": {
   "display_name": "Python 3 (ipykernel)",
   "language": "python",
   "name": "python3"
  },
  "language_info": {
   "codemirror_mode": {
    "name": "ipython",
    "version": 3
   },
   "file_extension": ".py",
   "mimetype": "text/x-python",
   "name": "python",
   "nbconvert_exporter": "python",
   "pygments_lexer": "ipython3",
   "version": "3.9.12"
  }
 },
 "nbformat": 4,
 "nbformat_minor": 5
}
