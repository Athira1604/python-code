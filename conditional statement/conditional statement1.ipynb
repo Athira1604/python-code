{
 "cells": [
  {
   "cell_type": "code",
   "execution_count": 1,
   "id": "026a5a08",
   "metadata": {},
   "outputs": [
    {
     "name": "stdout",
     "output_type": "stream",
     "text": [
      "Enter any number =6\n",
      "Enter number is even\n"
     ]
    }
   ],
   "source": [
    "# program to check wheather a given number is even or odd number\n",
    "n=int(input('Enter any number ='))\n",
    "if n%2==0:\n",
    "    print('Enter number is even')\n",
    "else :\n",
    "    print('Enter number is odd')\n",
    "        "
   ]
  },
  {
   "cell_type": "code",
   "execution_count": 2,
   "id": "ffe15dc3",
   "metadata": {},
   "outputs": [
    {
     "name": "stdout",
     "output_type": "stream",
     "text": [
      "Enter any alphabet=t\n",
      "Entered alphabet is a consonent\n"
     ]
    }
   ],
   "source": [
    "#program to check whether the entered alphabet is vowel or consonent\n",
    "c=input('Enter any alphabet=')\n",
    "if c=='a' or c=='e' or c=='i' or c=='o' or c=='u' or c=='A' or c=='E' or c=='I' or c=='O' or c=='u':\n",
    "    print('Entered alphabet is a vowel')\n",
    "else :\n",
    "    print('Entered alphabet is a consonent' )"
   ]
  },
  {
   "cell_type": "code",
   "execution_count": 3,
   "id": "7689ba68",
   "metadata": {},
   "outputs": [
    {
     "name": "stdout",
     "output_type": "stream",
     "text": [
      "Enter age of the person :17\n",
      "person is not elligible to vote\n"
     ]
    }
   ],
   "source": [
    "# program to check wheather a person is eligible to vote or not\n",
    "age=int(input('Enter age of the person :'))\n",
    "if age>=18:\n",
    "    print('person is elligible to vote')\n",
    "else :\n",
    "    print('person is not elligible to vote')\n",
    "        "
   ]
  },
  {
   "cell_type": "code",
   "execution_count": 4,
   "id": "ee3a3d7a",
   "metadata": {},
   "outputs": [
    {
     "name": "stdout",
     "output_type": "stream",
     "text": [
      "Enter any number=45\n",
      "Entered number is positive\n"
     ]
    }
   ],
   "source": [
    "# program to check wheather the entered number is positive,negative or zero\n",
    "n=int(input('Enter any number='))\n",
    "if n>0:\n",
    "     print('Entered number is positive')\n",
    "elif n<0:\n",
    "     print('Entered number is negative')    \n",
    "elif n==0:\n",
    "     print('Entered number is zero')\n",
    "else:\n",
    "    print('wrong input')\n",
    "                \n",
    "                \n",
    "        "
   ]
  },
  {
   "cell_type": "code",
   "execution_count": 2,
   "id": "4e21cfee",
   "metadata": {},
   "outputs": [
    {
     "name": "stdout",
     "output_type": "stream",
     "text": [
      "Enter any year=2011\n",
      "Entered year is not a leap year\n"
     ]
    }
   ],
   "source": [
    "# program to check wheather a given year is a leap year or not\n",
    "year= int(input('Enter any year='))\n",
    "if year%4==0:\n",
    "    print('Entered year is a leap year')                        \n",
    "else:\n",
    "    print('Entered year is not a leap year')\n",
    "        "
   ]
  },
  {
   "cell_type": "code",
   "execution_count": 6,
   "id": "27fc916b",
   "metadata": {},
   "outputs": [
    {
     "name": "stdout",
     "output_type": "stream",
     "text": [
      "Enter length of side 1:8\n",
      "Enter length of side 2:4\n",
      "Enter length of side 3:7\n",
      "Triangle is Scalen\n"
     ]
    }
   ],
   "source": [
    "# program to check wheather a triangle is equililateral,isosceles or scalene\n",
    "s1=int(input('Enter length of side 1:'))\n",
    "s2=int(input('Enter length of side 2:'))\n",
    "s3=int(input('Enter length of side 3:'))\n",
    "if s1==s2==s3:\n",
    "     print('Triangle is Equilateral')\n",
    "elif s1==s2 or s2==s3 or s3==s1:\n",
    "    print('Triangle is Isoscles')\n",
    "else :\n",
    "    print('Triangle is Scalen')\n",
    "    \n",
    "\n"
   ]
  },
  {
   "cell_type": "code",
   "execution_count": 7,
   "id": "cd8385cd",
   "metadata": {},
   "outputs": [
    {
     "name": "stdout",
     "output_type": "stream",
     "text": [
      "Enter cost price of product:78\n",
      "Enter selling price of product :90\n",
      "profit\n"
     ]
    }
   ],
   "source": [
    "# program to check wheather a after selling a product its profit or loss\n",
    "cp=int(input('Enter cost price of product:'))\n",
    "sp=int(input('Enter selling price of product :'))\n",
    "if sp>cp:\n",
    "    print('profit')\n",
    "elif sp<cp:\n",
    "    print('loss')\n",
    "else:\n",
    "    print('no profit no loss')"
   ]
  },
  {
   "cell_type": "code",
   "execution_count": null,
   "id": "4947b010",
   "metadata": {},
   "outputs": [],
   "source": []
  }
 ],
 "metadata": {
  "kernelspec": {
   "display_name": "Python 3 (ipykernel)",
   "language": "python",
   "name": "python3"
  },
  "language_info": {
   "codemirror_mode": {
    "name": "ipython",
    "version": 3
   },
   "file_extension": ".py",
   "mimetype": "text/x-python",
   "name": "python",
   "nbconvert_exporter": "python",
   "pygments_lexer": "ipython3",
   "version": "3.9.12"
  }
 },
 "nbformat": 4,
 "nbformat_minor": 5
}
