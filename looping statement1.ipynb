{
 "cells": [
  {
   "cell_type": "markdown",
   "id": "2110385d",
   "metadata": {},
   "source": [
    "## program to print 'hello python 10 times"
   ]
  },
  {
   "cell_type": "code",
   "execution_count": 1,
   "id": "419134e7",
   "metadata": {},
   "outputs": [
    {
     "name": "stdout",
     "output_type": "stream",
     "text": [
      "1 \t Hello python\n",
      "2 \t Hello python\n",
      "3 \t Hello python\n",
      "4 \t Hello python\n",
      "5 \t Hello python\n",
      "6 \t Hello python\n",
      "7 \t Hello python\n",
      "8 \t Hello python\n",
      "9 \t Hello python\n",
      "10 \t Hello python\n"
     ]
    }
   ],
   "source": [
    "n='Hello python'\n",
    "i=1\n",
    "while i<=10:\n",
    "    print(i,'\\t',n)\n",
    "    i+=1"
   ]
  },
  {
   "cell_type": "markdown",
   "id": "8f353941",
   "metadata": {},
   "source": [
    "## program to print numbers 1-10"
   ]
  },
  {
   "cell_type": "code",
   "execution_count": 2,
   "id": "d60425f1",
   "metadata": {},
   "outputs": [
    {
     "name": "stdout",
     "output_type": "stream",
     "text": [
      "1\n",
      "2\n",
      "3\n",
      "4\n",
      "5\n",
      "6\n",
      "7\n",
      "8\n",
      "9\n",
      "10\n"
     ]
    }
   ],
   "source": [
    "i=1\n",
    "while i<=10:\n",
    "    print(i)\n",
    "    i+=1"
   ]
  },
  {
   "cell_type": "markdown",
   "id": "6a53aeed",
   "metadata": {},
   "source": [
    "## program to print sum first 10 numbers"
   ]
  },
  {
   "cell_type": "code",
   "execution_count": 3,
   "id": "66813150",
   "metadata": {},
   "outputs": [
    {
     "name": "stdout",
     "output_type": "stream",
     "text": [
      "1\n",
      "3\n",
      "6\n",
      "10\n",
      "15\n",
      "21\n",
      "28\n",
      "36\n",
      "45\n",
      "55\n"
     ]
    }
   ],
   "source": [
    "i=1\n",
    "sum=0\n",
    "while i<=10:\n",
    "    sum+=i\n",
    "    print(sum)\n",
    "    i+=1"
   ]
  },
  {
   "cell_type": "markdown",
   "id": "5d5cb917",
   "metadata": {},
   "source": [
    "## program to print sum first 10 numbers"
   ]
  },
  {
   "cell_type": "code",
   "execution_count": 4,
   "id": "a5c9b81c",
   "metadata": {},
   "outputs": [
    {
     "name": "stdout",
     "output_type": "stream",
     "text": [
      "55\n"
     ]
    }
   ],
   "source": [
    "i=1\n",
    "sum=0\n",
    "while i<=10:\n",
    "    sum+=i\n",
    "    i+=1\n",
    "print(sum)"
   ]
  },
  {
   "cell_type": "markdown",
   "id": "7e3a9e85",
   "metadata": {},
   "source": [
    "## program to print n numbers entered by users"
   ]
  },
  {
   "cell_type": "code",
   "execution_count": 8,
   "id": "fc282372",
   "metadata": {},
   "outputs": [
    {
     "name": "stdout",
     "output_type": "stream",
     "text": [
      "Enter a number=7\n",
      "1\n",
      "2\n",
      "3\n",
      "4\n",
      "5\n",
      "6\n",
      "7\n"
     ]
    }
   ],
   "source": [
    "n=int(input('Enter a number='))\n",
    "i=1\n",
    "while i<=n:\n",
    "    print(i)\n",
    "    i+=1"
   ]
  },
  {
   "cell_type": "markdown",
   "id": "f5ff1db7",
   "metadata": {},
   "source": [
    "## program to print sum of first 10 numbers "
   ]
  },
  {
   "cell_type": "code",
   "execution_count": 1,
   "id": "86026dab",
   "metadata": {},
   "outputs": [
    {
     "name": "stdout",
     "output_type": "stream",
     "text": [
      "Enter a number=8\n",
      "1\n",
      "3\n",
      "6\n",
      "10\n",
      "15\n",
      "21\n",
      "28\n",
      "36\n"
     ]
    }
   ],
   "source": [
    "n=int(input('Enter a number='))\n",
    "i=1\n",
    "sum=0\n",
    "while i<=n:\n",
    "    sum+=i\n",
    "    print(sum)\n",
    "    i+=1"
   ]
  },
  {
   "cell_type": "markdown",
   "id": "c45aba19",
   "metadata": {},
   "source": [
    "## program to print sum of first 10 numbers "
   ]
  },
  {
   "cell_type": "code",
   "execution_count": 3,
   "id": "bb45d371",
   "metadata": {},
   "outputs": [
    {
     "name": "stdout",
     "output_type": "stream",
     "text": [
      "Enter a number=8\n",
      "1\n",
      "3\n",
      "6\n",
      "10\n",
      "15\n",
      "21\n",
      "28\n",
      "36\n"
     ]
    }
   ],
   "source": [
    "n=int(input('Enter a number='))\n",
    "i=1\n",
    "sum=0\n",
    "while i<=n:\n",
    "    sum+=i\n",
    "    i+=1\n",
    "    print(sum)"
   ]
  },
  {
   "cell_type": "markdown",
   "id": "87393e52",
   "metadata": {},
   "source": [
    "## program to print table of number"
   ]
  },
  {
   "cell_type": "code",
   "execution_count": 4,
   "id": "c185f423",
   "metadata": {},
   "outputs": [
    {
     "name": "stdout",
     "output_type": "stream",
     "text": [
      "Enter a number whose table you want to print=7\n",
      "7 * 1 = 7\n",
      "7 * 2 = 14\n",
      "7 * 3 = 21\n",
      "7 * 4 = 28\n",
      "7 * 5 = 35\n",
      "7 * 6 = 42\n",
      "7 * 7 = 49\n",
      "7 * 8 = 56\n",
      "7 * 9 = 63\n",
      "7 * 10 = 70\n"
     ]
    }
   ],
   "source": [
    "n=int(input('Enter a number whose table you want to print='))\n",
    "i=1\n",
    "while i<=10:\n",
    "    print(n,'*',i,'=',n*i)\n",
    "    i+=1"
   ]
  },
  {
   "cell_type": "markdown",
   "id": "16fb4c3b",
   "metadata": {},
   "source": [
    "## program to print factorial of number"
   ]
  },
  {
   "cell_type": "code",
   "execution_count": 6,
   "id": "2d9fdd97",
   "metadata": {},
   "outputs": [
    {
     "name": "stdout",
     "output_type": "stream",
     "text": [
      "Enter a number=5\n",
      "5\n",
      "20\n",
      "60\n",
      "120\n",
      "120\n"
     ]
    }
   ],
   "source": [
    "n=int(input('Enter a number='))\n",
    "fact=1\n",
    "while n>=1:\n",
    "    fact*=n\n",
    "    n-=1\n",
    "    print(fact)"
   ]
  },
  {
   "cell_type": "markdown",
   "id": "481c5445",
   "metadata": {},
   "source": [
    "## program to print even number between 1-100"
   ]
  },
  {
   "cell_type": "code",
   "execution_count": null,
   "id": "e1fb7be3",
   "metadata": {},
   "outputs": [],
   "source": [
    "i=1\n",
    "print('Even numbers from 1-100 are:')\n",
    "while i<=100:\n",
    "    if i%2==0:\n",
    "        print(i,end=\" , \")\n",
    "    i+=1"
   ]
  },
  {
   "cell_type": "code",
   "execution_count": null,
   "id": "2df678ee",
   "metadata": {},
   "outputs": [],
   "source": []
  }
 ],
 "metadata": {
  "kernelspec": {
   "display_name": "Python 3 (ipykernel)",
   "language": "python",
   "name": "python3"
  },
  "language_info": {
   "codemirror_mode": {
    "name": "ipython",
    "version": 3
   },
   "file_extension": ".py",
   "mimetype": "text/x-python",
   "name": "python",
   "nbconvert_exporter": "python",
   "pygments_lexer": "ipython3",
   "version": "3.9.12"
  }
 },
 "nbformat": 4,
 "nbformat_minor": 5
}
